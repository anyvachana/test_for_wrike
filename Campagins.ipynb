{
 "cells": [
  {
   "cell_type": "code",
   "execution_count": 1,
   "metadata": {},
   "outputs": [
    {
     "name": "stderr",
     "output_type": "stream",
     "text": [
      "C:\\ProgramData\\Anaconda3\\lib\\site-packages\\sklearn\\cross_validation.py:41: DeprecationWarning: This module was deprecated in version 0.18 in favor of the model_selection module into which all the refactored classes and functions are moved. Also note that the interface of the new CV iterators are different from that of this module. This module will be removed in 0.20.\n",
      "  \"This module will be removed in 0.20.\", DeprecationWarning)\n"
     ]
    }
   ],
   "source": [
    "from pandas import read_csv, DataFrame\n",
    "from sklearn.neighbors import KNeighborsRegressor\n",
    "from sklearn.linear_model import LinearRegression, LogisticRegression\n",
    "from sklearn.svm import SVR\n",
    "from sklearn.ensemble import RandomForestRegressor,RandomForestClassifier, GradientBoostingClassifier\n",
    "from sklearn.naive_bayes import GaussianNB\n",
    "from sklearn.decomposition import PCA\n",
    "from sklearn.metrics import r2_score\n",
    "from sklearn.cross_validation import train_test_split\n",
    "from matplotlib import pyplot\n",
    "from sklearn.preprocessing import LabelEncoder\n",
    "import seaborn as sns\n",
    "from sklearn.manifold import TSNE\n",
    "from sklearn.preprocessing import StandardScaler\n",
    "from statsmodels.formula.api import ols\n",
    "from statsmodels.stats.anova import anova_lm\n",
    "from sklearn.tree import DecisionTreeRegressor\n",
    "from sklearn.metrics import explained_variance_score as r2\n",
    "import numpy as np\n",
    "from sklearn.metrics import roc_curve, auc"
   ]
  },
  {
   "cell_type": "code",
   "execution_count": 80,
   "metadata": {},
   "outputs": [
    {
     "name": "stdout",
     "output_type": "stream",
     "text": [
      "   campaign_no    Campaign Budget_spent\n",
      "0            0  Кампания A    $1,900.00\n",
      "1            1  Кампания B    $6,000.00\n",
      "2            2  Кампания C    $2,500.00\n",
      "3            3  Кампания D    $6,500.00\n",
      "4            4  Кампания E    $1,800.00\n"
     ]
    }
   ],
   "source": [
    "campaigns = read_csv('main_Campaigns.csv',',')\n",
    "payments = read_csv('main_Payments.csv',',')\n",
    "users_row = read_csv('main_User_source.csv',',')\n",
    "print(campaigns)"
   ]
  },
  {
   "cell_type": "code",
   "execution_count": 79,
   "metadata": {},
   "outputs": [
    {
     "name": "stderr",
     "output_type": "stream",
     "text": [
      "C:\\ProgramData\\Anaconda3\\lib\\site-packages\\ipykernel_launcher.py:4: FutureWarning: convert_objects is deprecated.  To re-infer data dtypes for object columns, use Series.infer_objects()\n",
      "For all other conversions use the data-type specific converters pd.to_datetime, pd.to_timedelta and pd.to_numeric.\n",
      "  after removing the cwd from sys.path.\n"
     ]
    },
    {
     "name": "stdout",
     "output_type": "stream",
     "text": [
      "     user_id  camp 1 month later 2 months later 3 months later 4 months later  \\\n",
      "25    133480     2       $180.00        $180.00        $180.00           $180   \n",
      "30    133498     3       $130.00        $130.00        $130.00           $130   \n",
      "63    133666     1       $120.00        $120.00        $120.00            NaN   \n",
      "64    133667     0       $100.00        $100.00        $100.00            NaN   \n",
      "66    119819     4       $170.00        $170.00        $170.00           $170   \n",
      "81    133739     1       $140.00        $140.00        $140.00            NaN   \n",
      "102   133902     1       $130.00        $130.00        $130.00           $130   \n",
      "120   134016     1       $140.00        $140.00        $140.00           $140   \n",
      "157   134329     1       $190.00        $190.00        $190.00            NaN   \n",
      "165   134394     3       $130.00        $130.00        $130.00           $130   \n",
      "197   134557     3       $160.00        $160.00        $160.00           $160   \n",
      "208   134588     3       $160.00        $160.00        $160.00           $160   \n",
      "234   134649     0       $160.00        $160.00        $160.00           $160   \n",
      "236   134655     2       $140.00        $140.00        $140.00           $140   \n",
      "244   125651     2       $130.00        $130.00        $130.00           $130   \n",
      "256   134686     3       $140.00        $140.00        $140.00           $140   \n",
      "287   134812     0       $130.00        $130.00        $130.00           $130   \n",
      "289   134819     3       $130.00        $130.00        $130.00           $130   \n",
      "\n",
      "    5 months later 6 months later 7 months later 8 months later  \\\n",
      "25         $180.00        $180.00            NaN            NaN   \n",
      "30         $130.00        $130.00        $130.00        $130.00   \n",
      "63             NaN            NaN            NaN            NaN   \n",
      "64             NaN            NaN            NaN            NaN   \n",
      "66         $170.00        $170.00        $170.00        $170.00   \n",
      "81             NaN            NaN            NaN            NaN   \n",
      "102        $130.00        $130.00            NaN            NaN   \n",
      "120        $140.00        $140.00        $140.00        $140.00   \n",
      "157            NaN            NaN            NaN            NaN   \n",
      "165        $130.00        $130.00        $130.00        $130.00   \n",
      "197        $160.00        $160.00        $160.00        $160.00   \n",
      "208        $160.00        $160.00        $160.00        $160.00   \n",
      "234        $160.00        $160.00            NaN            NaN   \n",
      "236        $140.00        $140.00        $140.00        $140.00   \n",
      "244        $130.00        $130.00        $130.00        $130.00   \n",
      "256        $140.00        $140.00        $140.00        $140.00   \n",
      "287        $130.00        $130.00            NaN            NaN   \n",
      "289        $130.00        $130.00            NaN            NaN   \n",
      "\n",
      "    9 months later 10 months later 11 months later 12 months later  month  \\\n",
      "25             NaN             NaN             NaN             NaN      6   \n",
      "30         $130.00             NaN             NaN             NaN      9   \n",
      "63             NaN             NaN             NaN             NaN      3   \n",
      "64             NaN             NaN             NaN             NaN      3   \n",
      "66         $170.00         $170.00         $170.00         $170.00     12   \n",
      "81             NaN             NaN             NaN             NaN      3   \n",
      "102            NaN             NaN             NaN             NaN      6   \n",
      "120        $140.00         $140.00         $140.00         $140.00     12   \n",
      "157            NaN             NaN             NaN             NaN      3   \n",
      "165        $130.00         $130.00         $130.00         $130.00     12   \n",
      "197        $160.00             NaN             NaN             NaN      9   \n",
      "208        $160.00             NaN             NaN             NaN      9   \n",
      "234            NaN             NaN             NaN             NaN      6   \n",
      "236        $140.00             NaN             NaN             NaN      9   \n",
      "244        $130.00             NaN             NaN             NaN      9   \n",
      "256        $140.00             NaN             NaN             NaN      9   \n",
      "287            NaN             NaN             NaN             NaN      6   \n",
      "289            NaN             NaN             NaN             NaN      6   \n",
      "\n",
      "     price  amount  \n",
      "25   180.0  1080.0  \n",
      "30   130.0  1170.0  \n",
      "63   120.0   360.0  \n",
      "64   100.0   300.0  \n",
      "66   170.0  2040.0  \n",
      "81   140.0   420.0  \n",
      "102  130.0   780.0  \n",
      "120  140.0  1680.0  \n",
      "157  190.0   570.0  \n",
      "165  130.0  1560.0  \n",
      "197  160.0  1440.0  \n",
      "208  160.0  1440.0  \n",
      "234  160.0   960.0  \n",
      "236  140.0  1260.0  \n",
      "244  130.0  1170.0  \n",
      "256  140.0  1260.0  \n",
      "287  130.0   780.0  \n",
      "289  130.0   780.0  \n"
     ]
    }
   ],
   "source": [
    "users=DataFrame.merge(users_row, payments, how='outer',on='user_id')\n",
    "times=list(users.iloc[:,2:])\n",
    "users['month']=users.iloc[:,2:].apply(lambda x: x.count(), axis=1)\n",
    "users['price']=users.loc[:,times].apply(lambda x: x.mode().str.replace('$', '').convert_objects(convert_numeric=True), axis=1).fillna(0)\n",
    "users['amount']=users.month*users.price\n",
    "users\n",
    "users['budget']=campaigns.iloc[]\n",
    "print(users[users.month!=0])"
   ]
  },
  {
   "cell_type": "code",
   "execution_count": null,
   "metadata": {},
   "outputs": [],
   "source": []
  }
 ],
 "metadata": {
  "kernelspec": {
   "display_name": "Python 3",
   "language": "python",
   "name": "python3"
  }
 },
 "nbformat": 4,
 "nbformat_minor": 2
}
